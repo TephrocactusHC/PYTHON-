{
 "cells": [
  {
   "cell_type": "code",
   "execution_count": 1,
   "metadata": {},
   "outputs": [],
   "source": [
    "# 加载数据集\n",
    "import pandas as pd\n",
    "train_dataset = pd.read_csv('./data/train.csv')\n",
    "test_dataset = pd.read_csv('./data/test.csv')"
   ]
  },
  {
   "cell_type": "code",
   "execution_count": 2,
   "metadata": {},
   "outputs": [
    {
     "data": {
      "text/html": [
       "<div>\n",
       "<style scoped>\n",
       "    .dataframe tbody tr th:only-of-type {\n",
       "        vertical-align: middle;\n",
       "    }\n",
       "\n",
       "    .dataframe tbody tr th {\n",
       "        vertical-align: top;\n",
       "    }\n",
       "\n",
       "    .dataframe thead th {\n",
       "        text-align: right;\n",
       "    }\n",
       "</style>\n",
       "<table border=\"1\" class=\"dataframe\">\n",
       "  <thead>\n",
       "    <tr style=\"text-align: right;\">\n",
       "      <th></th>\n",
       "      <th>Ofiicial Account Name</th>\n",
       "      <th>Title</th>\n",
       "      <th>News Url</th>\n",
       "      <th>Image Url</th>\n",
       "      <th>Report Content</th>\n",
       "      <th>label</th>\n",
       "    </tr>\n",
       "  </thead>\n",
       "  <tbody>\n",
       "    <tr>\n",
       "      <td>0</td>\n",
       "      <td>环球人物</td>\n",
       "      <td>中国反腐风刮到阿根廷，这个美到让人瘫痪的女总统，因为8个本子摊上大事了</td>\n",
       "      <td>http://mp.weixin.qq.com/s?__biz=MTAzNDI4MDc2MQ...</td>\n",
       "      <td>http://mmbiz.qpic.cn/mmbiz_jpg/hpcO6kWnPm6cX3M...</td>\n",
       "      <td>内容不符</td>\n",
       "      <td>0</td>\n",
       "    </tr>\n",
       "    <tr>\n",
       "      <td>1</td>\n",
       "      <td>西湖之声</td>\n",
       "      <td>腾讯为《如懿传》道歉？这部3亿大剧上映第一天遭网友狂吐槽：愣是拍成村头恋曲...</td>\n",
       "      <td>http://mp.weixin.qq.com/s?__biz=MTA2Mjk0MTE2MA...</td>\n",
       "      <td>http://mmbiz.qpic.cn/mmbiz_jpg/vQCGoQzHAbaAXRr...</td>\n",
       "      <td>满口胡言</td>\n",
       "      <td>0</td>\n",
       "    </tr>\n",
       "    <tr>\n",
       "      <td>2</td>\n",
       "      <td>厦门晚报</td>\n",
       "      <td>顺风车司机奸杀20岁女乘客，落网视频曝光！滴滴道歉…</td>\n",
       "      <td>http://mp.weixin.qq.com/s?__biz=MTA3NzI1Mzg4MQ...</td>\n",
       "      <td>http://mmbiz.qpic.cn/mmbiz_jpg/TxqQX9BtmOMpwDZ...</td>\n",
       "      <td>？</td>\n",
       "      <td>0</td>\n",
       "    </tr>\n",
       "    <tr>\n",
       "      <td>3</td>\n",
       "      <td>腾讯娱乐</td>\n",
       "      <td>偶遇鹿晗关晓彤旅行过七夕，小情侣是真滴甜...</td>\n",
       "      <td>http://mp.weixin.qq.com/s?__biz=MTA5NTIzNDE2MQ...</td>\n",
       "      <td>http://mmbiz.qpic.cn/mmbiz_jpg/9Ju9PZ1NxhfkIZ3...</td>\n",
       "      <td>领个屁证，过你妹的七夕，几天前的图在今天拿来博眼球</td>\n",
       "      <td>0</td>\n",
       "    </tr>\n",
       "    <tr>\n",
       "      <td>4</td>\n",
       "      <td>腾讯娱乐</td>\n",
       "      <td>赵丽颖和冯绍峰即将公布恋情？网友：曝不曝没区别啊</td>\n",
       "      <td>http://mp.weixin.qq.com/s?__biz=MTA5NTIzNDE2MQ...</td>\n",
       "      <td>http://mmbiz.qpic.cn/mmbiz_jpg/9Ju9PZ1NxhdTkXb...</td>\n",
       "      <td>事件不实。</td>\n",
       "      <td>0</td>\n",
       "    </tr>\n",
       "  </tbody>\n",
       "</table>\n",
       "</div>"
      ],
      "text/plain": [
       "  Ofiicial Account Name                                     Title  \\\n",
       "0                  环球人物       中国反腐风刮到阿根廷，这个美到让人瘫痪的女总统，因为8个本子摊上大事了   \n",
       "1                  西湖之声  腾讯为《如懿传》道歉？这部3亿大剧上映第一天遭网友狂吐槽：愣是拍成村头恋曲...   \n",
       "2                  厦门晚报                顺风车司机奸杀20岁女乘客，落网视频曝光！滴滴道歉…   \n",
       "3                  腾讯娱乐                   偶遇鹿晗关晓彤旅行过七夕，小情侣是真滴甜...   \n",
       "4                  腾讯娱乐                  赵丽颖和冯绍峰即将公布恋情？网友：曝不曝没区别啊   \n",
       "\n",
       "                                            News Url  \\\n",
       "0  http://mp.weixin.qq.com/s?__biz=MTAzNDI4MDc2MQ...   \n",
       "1  http://mp.weixin.qq.com/s?__biz=MTA2Mjk0MTE2MA...   \n",
       "2  http://mp.weixin.qq.com/s?__biz=MTA3NzI1Mzg4MQ...   \n",
       "3  http://mp.weixin.qq.com/s?__biz=MTA5NTIzNDE2MQ...   \n",
       "4  http://mp.weixin.qq.com/s?__biz=MTA5NTIzNDE2MQ...   \n",
       "\n",
       "                                           Image Url  \\\n",
       "0  http://mmbiz.qpic.cn/mmbiz_jpg/hpcO6kWnPm6cX3M...   \n",
       "1  http://mmbiz.qpic.cn/mmbiz_jpg/vQCGoQzHAbaAXRr...   \n",
       "2  http://mmbiz.qpic.cn/mmbiz_jpg/TxqQX9BtmOMpwDZ...   \n",
       "3  http://mmbiz.qpic.cn/mmbiz_jpg/9Ju9PZ1NxhfkIZ3...   \n",
       "4  http://mmbiz.qpic.cn/mmbiz_jpg/9Ju9PZ1NxhdTkXb...   \n",
       "\n",
       "              Report Content  label  \n",
       "0                       内容不符      0  \n",
       "1                       满口胡言      0  \n",
       "2                         ？       0  \n",
       "3  领个屁证，过你妹的七夕，几天前的图在今天拿来博眼球      0  \n",
       "4                      事件不实。      0  "
      ]
     },
     "execution_count": 2,
     "metadata": {},
     "output_type": "execute_result"
    }
   ],
   "source": [
    "train_dataset.head()"
   ]
  },
  {
   "cell_type": "code",
   "execution_count": 3,
   "metadata": {},
   "outputs": [
    {
     "data": {
      "text/plain": [
       "count    10587.000000\n",
       "mean         0.259091\n",
       "std          0.438157\n",
       "min          0.000000\n",
       "25%          0.000000\n",
       "50%          0.000000\n",
       "75%          1.000000\n",
       "max          1.000000\n",
       "Name: label, dtype: float64"
      ]
     },
     "execution_count": 3,
     "metadata": {},
     "output_type": "execute_result"
    }
   ],
   "source": [
    "train_dataset['label'].describe()"
   ]
  },
  {
   "cell_type": "code",
   "execution_count": 4,
   "metadata": {},
   "outputs": [
    {
     "data": {
      "text/plain": [
       "0             中国反腐风刮到阿根廷，这个美到让人瘫痪的女总统，因为8个本子摊上大事了\n",
       "1        腾讯为《如懿传》道歉？这部3亿大剧上映第一天遭网友狂吐槽：愣是拍成村头恋曲...\n",
       "2                      顺风车司机奸杀20岁女乘客，落网视频曝光！滴滴道歉…\n",
       "3                         偶遇鹿晗关晓彤旅行过七夕，小情侣是真滴甜...\n",
       "4                        赵丽颖和冯绍峰即将公布恋情？网友：曝不曝没区别啊\n",
       "                           ...                   \n",
       "10136                              震惊，网络惊传崔永元绝命书！\n",
       "10137                    林允当中大胆表白吴亦凡，可吴亦凡却早就有心上人！\n",
       "10138               范冰冰晒出红本本，和别人不大一样，网友：真替李晨捏一把汗！\n",
       "10139                             关于国庆假期延长至10号的通知\n",
       "10140                      身份证上一定要贴张创可贴，现在知道还不算晚！\n",
       "Name: Title, Length: 20728, dtype: object"
      ]
     },
     "execution_count": 4,
     "metadata": {},
     "output_type": "execute_result"
    }
   ],
   "source": [
    "pd.concat([train_dataset['Title'], test_dataset['Title']], axis=0) "
   ]
  },
  {
   "cell_type": "code",
   "execution_count": 5,
   "metadata": {},
   "outputs": [],
   "source": [
    "from sklearn.feature_extraction.text import TfidfVectorizer\n",
    "vectorizer = TfidfVectorizer(max_features=3000)\n",
    "features = vectorizer.fit_transform(pd.concat([train_dataset['Title'], test_dataset['Title']], axis=0) )"
   ]
  },
  {
   "cell_type": "code",
   "execution_count": 6,
   "metadata": {},
   "outputs": [
    {
     "data": {
      "text/plain": [
       "<20728x3000 sparse matrix of type '<class 'numpy.float64'>'\n",
       "\twith 24435 stored elements in Compressed Sparse Row format>"
      ]
     },
     "execution_count": 6,
     "metadata": {},
     "output_type": "execute_result"
    }
   ],
   "source": [
    "features"
   ]
  },
  {
   "cell_type": "code",
   "execution_count": 7,
   "metadata": {},
   "outputs": [
    {
     "data": {
      "text/plain": [
       "RidgeClassifier(alpha=1.0, class_weight=None, copy_X=True, fit_intercept=True,\n",
       "                max_iter=None, normalize=False, random_state=None,\n",
       "                solver='auto', tol=0.001)"
      ]
     },
     "execution_count": 7,
     "metadata": {},
     "output_type": "execute_result"
    }
   ],
   "source": [
    "from sklearn.linear_model import RidgeClassifier\n",
    "clf = RidgeClassifier()\n",
    "clf.fit(features[:train_dataset.shape[0]], train_dataset['label'])"
   ]
  },
  {
   "cell_type": "code",
   "execution_count": 8,
   "metadata": {},
   "outputs": [],
   "source": [
    "from sklearn.metrics import precision_recall_fscore_support"
   ]
  },
  {
   "cell_type": "code",
   "execution_count": 9,
   "metadata": {},
   "outputs": [
    {
     "data": {
      "text/plain": [
       "(0.7411347517730497, 0.28205128205128205, 0.40860215053763443, None)"
      ]
     },
     "execution_count": 9,
     "metadata": {},
     "output_type": "execute_result"
    }
   ],
   "source": [
    "y_predict = clf.predict(features[10587:])\n",
    "precision_recall_fscore_support(test_dataset['label'], y_predict, average='binary')"
   ]
  }
 ],
 "metadata": {
  "kernelspec": {
   "display_name": "Python 3",
   "language": "python",
   "name": "python3"
  },
  "language_info": {
   "codemirror_mode": {
    "name": "ipython",
    "version": 3
   },
   "file_extension": ".py",
   "mimetype": "text/x-python",
   "name": "python",
   "nbconvert_exporter": "python",
   "pygments_lexer": "ipython3",
   "version": "3.7.4"
  }
 },
 "nbformat": 4,
 "nbformat_minor": 4
}
